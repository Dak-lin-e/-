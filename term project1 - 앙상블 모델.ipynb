{
 "cells": [
  {
   "cell_type": "code",
   "execution_count": 42,
   "id": "0379843a",
   "metadata": {},
   "outputs": [],
   "source": [
    "import pandas as pd\n",
    "from sklearn.linear_model import LogisticRegression\n",
    "from sklearn.linear_model import LinearRegression\n",
    "from sklearn import preprocessing\n",
    "import numpy as np\n",
    "from sklearn.neighbors import KNeighborsClassifier\n",
    "from sklearn.model_selection import GridSearchCV\n",
    "from sklearn.model_selection import train_test_split\n",
    "from sklearn.neighbors import KNeighborsClassifier\n",
    "from sklearn.tree import DecisionTreeClassifier\n",
    "from sklearn import svm\n",
    "from sklearn.svm import SVR\n",
    "from sklearn.ensemble import RandomForestClassifier,RandomForestRegressor, VotingClassifier,VotingRegressor\n",
    "from sklearn.model_selection import cross_val_score\n",
    "from sklearn.metrics import f1_score,mean_squared_error\n",
    "import matplotlib.pyplot as plt\n",
    "from sklearn.metrics import confusion_matrix, accuracy_score, classification_report\n",
    "import sklearn.metrics as metrics\n",
    "import seaborn as sns"
   ]
  },
  {
   "cell_type": "code",
   "execution_count": 43,
   "id": "72770b9f",
   "metadata": {},
   "outputs": [],
   "source": [
    "# Surpressing warnings:\n",
    "def warn(*args, **kwargs):\n",
    "    pass\n",
    "import warnings\n",
    "warnings.warn = warn"
   ]
  },
  {
   "cell_type": "code",
   "execution_count": 44,
   "id": "ba88655a",
   "metadata": {
    "scrolled": true
   },
   "outputs": [
    {
     "data": {
      "text/html": [
       "<div>\n",
       "<style scoped>\n",
       "    .dataframe tbody tr th:only-of-type {\n",
       "        vertical-align: middle;\n",
       "    }\n",
       "\n",
       "    .dataframe tbody tr th {\n",
       "        vertical-align: top;\n",
       "    }\n",
       "\n",
       "    .dataframe thead th {\n",
       "        text-align: right;\n",
       "    }\n",
       "</style>\n",
       "<table border=\"1\" class=\"dataframe\">\n",
       "  <thead>\n",
       "    <tr style=\"text-align: right;\">\n",
       "      <th></th>\n",
       "      <th>일시</th>\n",
       "      <th>최고기온</th>\n",
       "      <th>최저기온</th>\n",
       "      <th>일교차</th>\n",
       "      <th>강수량</th>\n",
       "      <th>평균습도</th>\n",
       "      <th>평균풍속</th>\n",
       "      <th>일조합</th>\n",
       "      <th>일사합</th>\n",
       "      <th>일조율</th>\n",
       "      <th>평균기온</th>\n",
       "    </tr>\n",
       "  </thead>\n",
       "  <tbody>\n",
       "    <tr>\n",
       "      <th>0</th>\n",
       "      <td>1960-01-01</td>\n",
       "      <td>2.2</td>\n",
       "      <td>-5.2</td>\n",
       "      <td>7.4</td>\n",
       "      <td>NaN</td>\n",
       "      <td>68.3</td>\n",
       "      <td>1.7</td>\n",
       "      <td>6.7</td>\n",
       "      <td>NaN</td>\n",
       "      <td>NaN</td>\n",
       "      <td>-1.6</td>\n",
       "    </tr>\n",
       "    <tr>\n",
       "      <th>1</th>\n",
       "      <td>1960-01-02</td>\n",
       "      <td>1.2</td>\n",
       "      <td>-5.6</td>\n",
       "      <td>6.8</td>\n",
       "      <td>0.4</td>\n",
       "      <td>87.7</td>\n",
       "      <td>1.3</td>\n",
       "      <td>0.0</td>\n",
       "      <td>NaN</td>\n",
       "      <td>NaN</td>\n",
       "      <td>-1.9</td>\n",
       "    </tr>\n",
       "    <tr>\n",
       "      <th>2</th>\n",
       "      <td>1960-01-03</td>\n",
       "      <td>8.7</td>\n",
       "      <td>-2.1</td>\n",
       "      <td>10.8</td>\n",
       "      <td>0.0</td>\n",
       "      <td>81.3</td>\n",
       "      <td>3.0</td>\n",
       "      <td>0.0</td>\n",
       "      <td>NaN</td>\n",
       "      <td>NaN</td>\n",
       "      <td>4.0</td>\n",
       "    </tr>\n",
       "    <tr>\n",
       "      <th>3</th>\n",
       "      <td>1960-01-04</td>\n",
       "      <td>10.8</td>\n",
       "      <td>1.2</td>\n",
       "      <td>9.6</td>\n",
       "      <td>0.0</td>\n",
       "      <td>79.7</td>\n",
       "      <td>4.4</td>\n",
       "      <td>2.6</td>\n",
       "      <td>NaN</td>\n",
       "      <td>NaN</td>\n",
       "      <td>7.5</td>\n",
       "    </tr>\n",
       "    <tr>\n",
       "      <th>4</th>\n",
       "      <td>1960-01-05</td>\n",
       "      <td>1.3</td>\n",
       "      <td>-8.2</td>\n",
       "      <td>9.5</td>\n",
       "      <td>NaN</td>\n",
       "      <td>44.0</td>\n",
       "      <td>5.1</td>\n",
       "      <td>8.2</td>\n",
       "      <td>NaN</td>\n",
       "      <td>NaN</td>\n",
       "      <td>-4.6</td>\n",
       "    </tr>\n",
       "  </tbody>\n",
       "</table>\n",
       "</div>"
      ],
      "text/plain": [
       "           일시  최고기온  최저기온   일교차  강수량  평균습도  평균풍속  일조합  일사합  일조율  평균기온\n",
       "0  1960-01-01   2.2  -5.2   7.4  NaN  68.3   1.7  6.7  NaN  NaN  -1.6\n",
       "1  1960-01-02   1.2  -5.6   6.8  0.4  87.7   1.3  0.0  NaN  NaN  -1.9\n",
       "2  1960-01-03   8.7  -2.1  10.8  0.0  81.3   3.0  0.0  NaN  NaN   4.0\n",
       "3  1960-01-04  10.8   1.2   9.6  0.0  79.7   4.4  2.6  NaN  NaN   7.5\n",
       "4  1960-01-05   1.3  -8.2   9.5  NaN  44.0   5.1  8.2  NaN  NaN  -4.6"
      ]
     },
     "execution_count": 44,
     "metadata": {},
     "output_type": "execute_result"
    }
   ],
   "source": [
    "df = pd.read_csv('train.csv')\n",
    "df.head()"
   ]
  },
  {
   "cell_type": "code",
   "execution_count": 45,
   "id": "b29885a7",
   "metadata": {},
   "outputs": [
    {
     "name": "stdout",
     "output_type": "stream",
     "text": [
      "               일시  최고기온  최저기온   일교차   강수량  평균습도  평균풍속  일조합    일사합   일조율  평균기온\n",
      "14610  2000-01-01   9.9   1.8   8.1   0.0  63.5   2.3  2.3   4.46  24.0   5.5\n",
      "14611  2000-01-02   6.9  -0.9   7.8   6.0  74.3   3.6  2.2   2.76  22.9   4.2\n",
      "14612  2000-01-03   0.1  -4.6   4.7   0.0  54.1   2.7  5.4   5.11  56.3  -2.2\n",
      "14613  2000-01-04   4.3  -4.3   8.6   0.0  48.6   1.7  1.6   3.59  16.7   0.3\n",
      "14614  2000-01-05   4.6   0.1   4.5  18.4  83.6   3.2  0.0   0.69   0.0   2.8\n",
      "...           ...   ...   ...   ...   ...   ...   ...  ...    ...   ...   ...\n",
      "23006  2022-12-27   3.3  -7.3  10.6   0.0  69.8   1.8  8.8  10.25  91.7  -2.6\n",
      "23007  2022-12-28   0.1  -6.0   6.1   0.1  58.1   2.5  8.7  10.86  90.6  -3.3\n",
      "23008  2022-12-29   2.1  -7.8   9.9   0.0  56.3   1.7  9.0  10.88  93.8  -2.9\n",
      "23009  2022-12-30   2.3  -4.4   6.7   0.0  65.6   1.9  7.9  10.84  82.3  -1.8\n",
      "23010  2022-12-31   2.1  -5.1   7.2   0.0  65.5   1.4  1.1   4.16  11.5  -1.2\n",
      "\n",
      "[8401 rows x 11 columns]\n"
     ]
    }
   ],
   "source": [
    "\n",
    "# 데이터프레임을 날짜 열을 기준으로 정렬합니다 (필요에 따라 생략 가능)\n",
    "df = df.sort_values(by='일시')\n",
    "\n",
    "# 2000년 이전의 데이터를 삭제합니다.\n",
    "df = df[df['일시'] >= '2000-01-01']\n",
    "# NaN 값을 0으로 채우기\n",
    "bf = df.fillna(0)\n",
    "\n",
    "# 결과 확인\n",
    "print(bf)\n"
   ]
  },
  {
   "cell_type": "code",
   "execution_count": 46,
   "id": "09560885",
   "metadata": {},
   "outputs": [],
   "source": [
    "bf['일시'] = pd.to_datetime(bf['일시'])\n",
    "\n",
    "bf['년'] = bf['일시'].dt.year\n",
    "bf['월'] = bf['일시'].dt.month\n",
    "bf['일'] = bf['일시'].dt.day\n",
    "\n",
    "X = bf[['년', '월', '일']]\n",
    "y = bf['평균기온']"
   ]
  },
  {
   "cell_type": "code",
   "execution_count": 47,
   "id": "dcdfe07b",
   "metadata": {
    "scrolled": false
   },
   "outputs": [
    {
     "name": "stdout",
     "output_type": "stream",
     "text": [
      "(8401,)\n"
     ]
    },
    {
     "data": {
      "text/plain": [
       "년    2016\n",
       "월       6\n",
       "일       5\n",
       "Name: 20610, dtype: int64"
      ]
     },
     "execution_count": 47,
     "metadata": {},
     "output_type": "execute_result"
    }
   ],
   "source": [
    "print(y.shape)\n",
    "X.iloc[6000]"
   ]
  },
  {
   "cell_type": "code",
   "execution_count": 48,
   "id": "1f598414",
   "metadata": {
    "scrolled": true
   },
   "outputs": [
    {
     "data": {
      "text/plain": [
       "StandardScaler()"
      ]
     },
     "execution_count": 48,
     "metadata": {},
     "output_type": "execute_result"
    }
   ],
   "source": [
    "from sklearn.preprocessing import StandardScaler\n",
    "scaler = StandardScaler()\n",
    "scaler.fit(X)"
   ]
  },
  {
   "cell_type": "code",
   "execution_count": 49,
   "id": "a65e1fae",
   "metadata": {},
   "outputs": [],
   "source": [
    "import pandas as pd\n",
    "from sklearn.model_selection import train_test_split\n",
    "from sklearn.preprocessing import StandardScaler\n",
    "from sklearn.linear_model import LinearRegression\n",
    "from sklearn.metrics import mean_absolute_error\n",
    "\n",
    "x_train, x_test = X[:7670], X[7670:]\n",
    "y_train, y_test = y[:7670], y[7670:]\n",
    "\n",
    "scaler = StandardScaler()\n",
    "X_train_scaled = scaler.fit_transform(x_train)\n",
    "X_test_scaled = scaler.transform(x_test)\n"
   ]
  },
  {
   "cell_type": "markdown",
   "id": "04b19c7c",
   "metadata": {},
   "source": [
    "## Linear Regression"
   ]
  },
  {
   "cell_type": "code",
   "execution_count": 50,
   "id": "03fe3c78",
   "metadata": {},
   "outputs": [
    {
     "data": {
      "text/plain": [
       "LinearRegression()"
      ]
     },
     "execution_count": 50,
     "metadata": {},
     "output_type": "execute_result"
    }
   ],
   "source": [
    "LinearReg = LinearRegression()\n",
    "LinearReg.fit(X_train_scaled, y_train)"
   ]
  },
  {
   "cell_type": "markdown",
   "id": "af316f7d",
   "metadata": {},
   "source": [
    "## Random Forest Regression Model"
   ]
  },
  {
   "cell_type": "code",
   "execution_count": 51,
   "id": "0e9a2c14",
   "metadata": {},
   "outputs": [
    {
     "data": {
      "text/plain": [
       "RandomForestRegressor()"
      ]
     },
     "execution_count": 51,
     "metadata": {},
     "output_type": "execute_result"
    }
   ],
   "source": [
    "RFR = RandomForestRegressor()\n",
    "RFR.fit(X_train_scaled, y_train)"
   ]
  },
  {
   "cell_type": "markdown",
   "id": "5d79c56b",
   "metadata": {},
   "source": [
    "## SVM Regression Model"
   ]
  },
  {
   "cell_type": "code",
   "execution_count": 52,
   "id": "531ff53a",
   "metadata": {},
   "outputs": [
    {
     "data": {
      "text/plain": [
       "SVR()"
      ]
     },
     "execution_count": 52,
     "metadata": {},
     "output_type": "execute_result"
    }
   ],
   "source": [
    "SVRR = SVR()\n",
    "SVRR.fit(X_train_scaled, y_train)"
   ]
  },
  {
   "cell_type": "markdown",
   "id": "61caab2e",
   "metadata": {},
   "source": [
    "## Ensembled of the above Regression Models"
   ]
  },
  {
   "cell_type": "code",
   "execution_count": 53,
   "id": "b7109085",
   "metadata": {},
   "outputs": [
    {
     "data": {
      "text/plain": [
       "VotingRegressor(estimators=[('LinearReg', LinearRegression()),\n",
       "                            ('RandomForest', RandomForestRegressor()),\n",
       "                            ('SVR', SVR())],\n",
       "                weights=[1, 2, 3])"
      ]
     },
     "execution_count": 53,
     "metadata": {},
     "output_type": "execute_result"
    }
   ],
   "source": [
    "ereg = VotingRegressor(estimators=[('LinearReg',LinearReg),('RandomForest', RFR), ('SVR',SVRR)],weights=[1,2,3])\n",
    "ereg.fit(X_train_scaled, y_train)"
   ]
  },
  {
   "cell_type": "markdown",
   "id": "887ff109",
   "metadata": {},
   "source": [
    "##  Regression report on rainfall amount prediction"
   ]
  },
  {
   "cell_type": "code",
   "execution_count": 54,
   "id": "cde66da8",
   "metadata": {},
   "outputs": [
    {
     "data": {
      "text/html": [
       "<div>\n",
       "<style scoped>\n",
       "    .dataframe tbody tr th:only-of-type {\n",
       "        vertical-align: middle;\n",
       "    }\n",
       "\n",
       "    .dataframe tbody tr th {\n",
       "        vertical-align: top;\n",
       "    }\n",
       "\n",
       "    .dataframe thead th {\n",
       "        text-align: right;\n",
       "    }\n",
       "</style>\n",
       "<table border=\"1\" class=\"dataframe\">\n",
       "  <thead>\n",
       "    <tr style=\"text-align: right;\">\n",
       "      <th></th>\n",
       "      <th>Regression Algorithm</th>\n",
       "      <th>MAE</th>\n",
       "      <th>RMSE</th>\n",
       "    </tr>\n",
       "  </thead>\n",
       "  <tbody>\n",
       "    <tr>\n",
       "      <th>0</th>\n",
       "      <td>Linear Regression</td>\n",
       "      <td>8.856779</td>\n",
       "      <td>10.500623</td>\n",
       "    </tr>\n",
       "    <tr>\n",
       "      <th>1</th>\n",
       "      <td>Random Forest</td>\n",
       "      <td>3.386598</td>\n",
       "      <td>4.380551</td>\n",
       "    </tr>\n",
       "    <tr>\n",
       "      <th>2</th>\n",
       "      <td>SVM</td>\n",
       "      <td>3.366302</td>\n",
       "      <td>4.166315</td>\n",
       "    </tr>\n",
       "    <tr>\n",
       "      <th>3</th>\n",
       "      <td>Ensemble Regression</td>\n",
       "      <td>3.764863</td>\n",
       "      <td>4.682148</td>\n",
       "    </tr>\n",
       "  </tbody>\n",
       "</table>\n",
       "</div>"
      ],
      "text/plain": [
       "  Regression Algorithm       MAE       RMSE\n",
       "0    Linear Regression  8.856779  10.500623\n",
       "1        Random Forest  3.386598   4.380551\n",
       "2                  SVM  3.366302   4.166315\n",
       "3  Ensemble Regression  3.764863   4.682148"
      ]
     },
     "execution_count": 54,
     "metadata": {},
     "output_type": "execute_result"
    }
   ],
   "source": [
    "LinearRegression_MAE = metrics.mean_absolute_error(LinearReg.predict(X_test_scaled), y_test)\n",
    "LinearRegression_MSE = metrics.mean_squared_error(LinearReg.predict(X_test_scaled), y_test, squared=False)\n",
    "\n",
    "RandomForest_MAE = metrics.mean_absolute_error(RFR.predict(X_test_scaled), y_test)\n",
    "RandomForest_MSE = metrics.mean_squared_error(RFR.predict(X_test_scaled), y_test, squared=False)\n",
    "\n",
    "SVM_MAE = metrics.mean_absolute_error(SVRR.predict(X_test_scaled), y_test)\n",
    "SVM_MSE = metrics.mean_squared_error(SVRR.predict(X_test_scaled), y_test, squared=False)\n",
    "\n",
    "ereg_MAE = metrics.mean_absolute_error(ereg.predict(X_test_scaled), y_test)\n",
    "ereg_MSE = metrics.mean_squared_error(ereg.predict(X_test_scaled), y_test, squared=False)\n",
    "\n",
    "Report = {'Regression Algorithm': ['Linear Regression','Random Forest', 'SVM','Ensemble Regression'],\n",
    "          'MAE': [LinearRegression_MAE,RandomForest_MAE, SVM_MAE,ereg_MAE],\n",
    "          'RMSE': [LinearRegression_MSE,RandomForest_MSE, SVM_MSE,ereg_MSE],}\n",
    "Report = pd.DataFrame(Report)\n",
    "Report"
   ]
  },
  {
   "cell_type": "code",
   "execution_count": 55,
   "id": "22733495",
   "metadata": {
    "scrolled": true
   },
   "outputs": [],
   "source": [
    "y_pred = RFR.predict(X_test_scaled)"
   ]
  },
  {
   "cell_type": "code",
   "execution_count": 56,
   "id": "9bf78515",
   "metadata": {
    "scrolled": false
   },
   "outputs": [
    {
     "data": {
      "text/plain": [
       "array([-6.431, -1.259,  0.309,  0.052,  0.891,  1.74 ,  2.659,  4.793,\n",
       "        2.688, -0.131, -0.55 , -0.391, -0.786, -2.329, -2.431, -2.458,\n",
       "       -1.756, -0.831,  0.183,  1.552,  0.485,  0.163,  3.285,  3.939,\n",
       "        3.282,  3.991,  5.118,  6.032,  6.477,  5.836,  5.342,  4.471,\n",
       "        1.401,  1.051,  0.285, -1.85 , -6.147, -5.401, -2.46 , -0.777,\n",
       "       -0.47 ,  3.101,  6.   ,  6.778,  6.694,  7.343,  7.009, -1.186,\n",
       "       -4.014, -3.209,  1.294,  4.084,  5.613,  3.962,  3.578,  6.16 ,\n",
       "        6.31 ,  6.203,  6.119,  5.05 ,  4.862,  4.257,  4.773,  3.496,\n",
       "        2.843,  3.667,  6.14 ,  8.159,  9.662,  6.448,  4.934,  6.09 ,\n",
       "        4.586,  4.367,  4.354,  4.382,  7.002,  9.314,  9.159,  9.662,\n",
       "       11.451, 10.622, 10.305, 11.176, 11.901, 13.663, 11.695,  9.056,\n",
       "        9.153,  9.707, 10.386,  9.621,  9.328,  9.647,  9.04 ,  8.358,\n",
       "        9.06 , 10.298,  9.862,  9.268,  9.559,  9.96 , 10.402, 12.089,\n",
       "       12.504, 13.359, 15.14 , 13.131, 13.182, 11.575,  9.303,  8.067,\n",
       "        7.371,  8.433, 10.933, 12.153, 12.288, 12.947, 13.798, 14.665,\n",
       "       16.672, 19.788, 19.905, 20.087, 19.793, 17.342, 18.672, 19.8  ,\n",
       "       19.124, 15.801, 15.041, 16.191, 15.073, 16.36 , 18.234, 16.708,\n",
       "       17.523, 18.555, 18.57 , 14.64 , 14.946, 16.984, 18.565, 19.287,\n",
       "       17.391, 16.95 , 17.113, 17.617, 18.94 , 20.979, 22.062, 21.38 ,\n",
       "       19.933, 19.343, 21.727, 22.082, 23.417, 24.11 , 23.204, 24.726,\n",
       "       26.173, 25.811, 25.809, 25.273, 25.927, 24.604, 23.737, 24.152,\n",
       "       24.187, 23.739, 24.42 , 24.86 , 25.738, 27.775, 26.563, 23.497,\n",
       "       22.756, 22.193, 24.02 , 24.771, 23.519, 21.662, 22.347, 24.025,\n",
       "       24.898, 24.444, 24.278, 25.303, 24.64 , 25.257, 26.582, 24.74 ,\n",
       "       24.962, 23.799, 19.631, 20.844, 23.602, 24.902, 25.584, 25.776,\n",
       "       24.172, 24.14 , 24.647, 23.214, 22.157, 22.955, 24.086, 24.878,\n",
       "       24.35 , 24.412, 24.259, 25.024, 25.784, 25.314, 25.01 , 25.185,\n",
       "       26.513, 25.869, 24.682, 24.323, 24.279, 24.751, 25.77 , 25.422,\n",
       "       26.719, 27.605, 27.294, 26.657, 27.457, 27.893, 27.591, 27.312,\n",
       "       27.455, 26.689, 25.151, 25.532, 27.832, 29.228, 29.512, 27.346,\n",
       "       27.145, 26.645, 26.544, 26.381, 25.535, 24.447, 23.215, 23.285,\n",
       "       23.171, 21.985, 20.327, 22.389, 21.63 , 22.518, 21.961, 20.959,\n",
       "       21.508, 21.614, 22.719, 22.25 , 21.712, 21.455, 20.933, 19.635,\n",
       "       19.422, 19.955, 19.489, 20.196, 20.044, 19.806, 20.703, 20.656,\n",
       "       19.867, 19.942, 19.118, 19.315, 19.52 , 17.576, 14.492, 14.512,\n",
       "       15.64 , 16.687, 16.544, 16.446, 16.682, 15.569, 13.837, 12.947,\n",
       "       11.91 , 12.214, 12.906, 13.566, 14.933, 14.837, 14.466, 13.58 ,\n",
       "       10.377,  9.945, 11.553, 12.354, 13.236, 13.445, 11.399, 11.741,\n",
       "       13.484, 12.632,  9.699,  7.064,  6.868, 10.25 , 12.478, 13.133,\n",
       "        8.555,  6.613,  8.201,  9.312, 10.403, 11.354, 12.   , 11.732,\n",
       "       12.824, 14.486, 14.15 , 10.608,  4.059,  5.529,  4.941,  3.051,\n",
       "        3.554,  3.968,  5.124,  3.588,  1.095, -0.197,  0.097,  2.07 ,\n",
       "        1.793,  1.755,  0.344,  1.865,  3.176,  2.817,  0.604,  1.544,\n",
       "        5.586,  4.689,  1.899, -1.811, -6.017, -7.279, -6.283, -4.718,\n",
       "       -2.9  , -4.063, -2.926, -1.338,  2.65 ,  3.672,  2.07 ,  0.351,\n",
       "        1.908,  4.036,  4.867,  0.826, -5.614, -6.431, -1.259,  0.309,\n",
       "        0.052,  0.891,  1.74 ,  2.659,  4.793,  2.688, -0.131, -0.55 ,\n",
       "       -0.391, -0.786, -2.329, -2.431, -2.458, -1.756, -0.831,  0.183,\n",
       "        1.552,  0.485,  0.163,  3.285,  3.939,  3.282,  3.991,  5.118,\n",
       "        6.032,  6.477,  5.836,  5.342,  4.471,  1.401,  1.051,  0.285,\n",
       "       -1.85 , -6.147, -5.401, -2.46 , -0.777, -0.47 ,  3.101,  6.   ,\n",
       "        6.778,  6.694,  7.343,  7.009, -1.186, -4.014, -3.209,  1.294,\n",
       "        4.084,  5.613,  3.962,  3.578,  6.16 ,  6.31 ,  6.203,  6.119,\n",
       "        5.05 ,  4.862,  4.257,  4.773,  3.496,  2.843,  3.667,  6.14 ,\n",
       "        8.159,  9.662,  6.448,  4.934,  6.09 ,  4.586,  4.367,  4.354,\n",
       "        4.382,  7.002,  9.314,  9.159,  9.662, 11.451, 10.622, 10.305,\n",
       "       11.176, 11.901, 13.663, 11.695,  9.056,  9.153,  9.707, 10.386,\n",
       "        9.621,  9.328,  9.647,  9.04 ,  8.358,  9.06 , 10.298,  9.862,\n",
       "        9.268,  9.559,  9.96 , 10.402, 12.089, 12.504, 13.359, 15.14 ,\n",
       "       13.131, 13.182, 11.575,  9.303,  8.067,  7.371,  8.433, 10.933,\n",
       "       12.153, 12.288, 12.947, 13.798, 14.665, 16.672, 19.788, 19.905,\n",
       "       20.087, 19.793, 17.342, 18.672, 19.8  , 19.124, 15.801, 15.041,\n",
       "       16.191, 15.073, 16.36 , 18.234, 16.708, 17.523, 18.555, 18.57 ,\n",
       "       14.64 , 14.946, 16.984, 18.565, 19.287, 17.391, 16.95 , 17.113,\n",
       "       17.617, 18.94 , 20.979, 22.062, 21.38 , 19.933, 19.343, 21.727,\n",
       "       22.082, 23.417, 24.11 , 23.204, 24.726, 26.173, 25.811, 25.809,\n",
       "       25.273, 25.927, 24.604, 23.737, 24.152, 24.187, 23.739, 24.42 ,\n",
       "       24.86 , 25.738, 27.775, 26.563, 23.497, 22.756, 22.193, 24.02 ,\n",
       "       24.771, 23.519, 21.662, 22.347, 24.025, 24.898, 24.444, 24.278,\n",
       "       25.303, 24.64 , 25.257, 26.582, 24.74 , 24.962, 23.799, 19.631,\n",
       "       20.844, 23.602, 24.902, 25.584, 25.776, 24.172, 24.14 , 24.647,\n",
       "       23.214, 22.157, 22.955, 24.086, 24.878, 24.35 , 24.412, 24.259,\n",
       "       25.024, 25.784, 25.314, 25.01 , 25.185, 26.513, 25.869, 24.682,\n",
       "       24.323, 24.279, 24.751, 25.77 , 25.422, 26.719, 27.605, 27.294,\n",
       "       26.657, 27.457, 27.893, 27.591, 27.312, 27.455, 26.689, 25.151,\n",
       "       25.532, 27.832, 29.228, 29.512, 27.346, 27.145, 26.645, 26.544,\n",
       "       26.381, 25.535, 24.447, 23.215, 23.285, 23.171, 21.985, 20.327,\n",
       "       22.389, 21.63 , 22.518, 21.961, 20.959, 21.508, 21.614, 22.719,\n",
       "       22.25 , 21.712, 21.455, 20.933, 19.635, 19.422, 19.955, 19.489,\n",
       "       20.196, 20.044, 19.806, 20.703, 20.656, 19.867, 19.942, 19.118,\n",
       "       19.315, 19.52 , 17.576, 14.492, 14.512, 15.64 , 16.687, 16.544,\n",
       "       16.446, 16.682, 15.569, 13.837, 12.947, 11.91 , 12.214, 12.906,\n",
       "       13.566, 14.933, 14.837, 14.466, 13.58 , 10.377,  9.945, 11.553,\n",
       "       12.354, 13.236, 13.445, 11.399, 11.741, 13.484, 12.632,  9.699,\n",
       "        7.064,  6.868, 10.25 , 12.478, 13.133,  8.555,  6.613,  8.201,\n",
       "        9.312, 10.403, 11.354, 12.   , 11.732, 12.824, 14.486, 14.15 ,\n",
       "       10.608,  4.059,  5.529,  4.941,  3.051,  3.554,  3.968,  5.124,\n",
       "        3.588,  1.095, -0.197,  0.097,  2.07 ,  1.793,  1.755,  0.344,\n",
       "        1.865,  3.176,  2.817,  0.604,  1.544,  5.586,  4.689,  1.899,\n",
       "       -1.811, -6.017, -7.279, -6.283, -4.718, -2.9  , -4.063, -2.926,\n",
       "       -1.338,  2.65 ,  3.672,  2.07 ,  0.351,  1.908,  4.036,  4.867,\n",
       "        0.826, -5.614, -6.431])"
      ]
     },
     "execution_count": 56,
     "metadata": {},
     "output_type": "execute_result"
    }
   ],
   "source": [
    "y_pred"
   ]
  },
  {
   "cell_type": "code",
   "execution_count": 57,
   "id": "5f968447",
   "metadata": {},
   "outputs": [
    {
     "data": {
      "text/html": [
       "<div>\n",
       "<style scoped>\n",
       "    .dataframe tbody tr th:only-of-type {\n",
       "        vertical-align: middle;\n",
       "    }\n",
       "\n",
       "    .dataframe tbody tr th {\n",
       "        vertical-align: top;\n",
       "    }\n",
       "\n",
       "    .dataframe thead th {\n",
       "        text-align: right;\n",
       "    }\n",
       "</style>\n",
       "<table border=\"1\" class=\"dataframe\">\n",
       "  <thead>\n",
       "    <tr style=\"text-align: right;\">\n",
       "      <th></th>\n",
       "      <th>일시</th>\n",
       "      <th>평균기온</th>\n",
       "    </tr>\n",
       "  </thead>\n",
       "  <tbody>\n",
       "    <tr>\n",
       "      <th>0</th>\n",
       "      <td>2023-01-01</td>\n",
       "      <td>2.688</td>\n",
       "    </tr>\n",
       "    <tr>\n",
       "      <th>1</th>\n",
       "      <td>2023-01-02</td>\n",
       "      <td>-0.131</td>\n",
       "    </tr>\n",
       "    <tr>\n",
       "      <th>2</th>\n",
       "      <td>2023-01-03</td>\n",
       "      <td>-0.550</td>\n",
       "    </tr>\n",
       "    <tr>\n",
       "      <th>3</th>\n",
       "      <td>2023-01-04</td>\n",
       "      <td>-0.391</td>\n",
       "    </tr>\n",
       "    <tr>\n",
       "      <th>4</th>\n",
       "      <td>2023-01-05</td>\n",
       "      <td>-0.786</td>\n",
       "    </tr>\n",
       "    <tr>\n",
       "      <th>...</th>\n",
       "      <td>...</td>\n",
       "      <td>...</td>\n",
       "    </tr>\n",
       "    <tr>\n",
       "      <th>353</th>\n",
       "      <td>2023-12-20</td>\n",
       "      <td>4.036</td>\n",
       "    </tr>\n",
       "    <tr>\n",
       "      <th>354</th>\n",
       "      <td>2023-12-21</td>\n",
       "      <td>4.867</td>\n",
       "    </tr>\n",
       "    <tr>\n",
       "      <th>355</th>\n",
       "      <td>2023-12-22</td>\n",
       "      <td>0.826</td>\n",
       "    </tr>\n",
       "    <tr>\n",
       "      <th>356</th>\n",
       "      <td>2023-12-23</td>\n",
       "      <td>-5.614</td>\n",
       "    </tr>\n",
       "    <tr>\n",
       "      <th>357</th>\n",
       "      <td>2023-12-24</td>\n",
       "      <td>-6.431</td>\n",
       "    </tr>\n",
       "  </tbody>\n",
       "</table>\n",
       "<p>358 rows × 2 columns</p>\n",
       "</div>"
      ],
      "text/plain": [
       "             일시   평균기온\n",
       "0    2023-01-01  2.688\n",
       "1    2023-01-02 -0.131\n",
       "2    2023-01-03 -0.550\n",
       "3    2023-01-04 -0.391\n",
       "4    2023-01-05 -0.786\n",
       "..          ...    ...\n",
       "353  2023-12-20  4.036\n",
       "354  2023-12-21  4.867\n",
       "355  2023-12-22  0.826\n",
       "356  2023-12-23 -5.614\n",
       "357  2023-12-24 -6.431\n",
       "\n",
       "[358 rows x 2 columns]"
      ]
     },
     "execution_count": 57,
     "metadata": {},
     "output_type": "execute_result"
    }
   ],
   "source": [
    "fd= pd.read_csv('sample_submission.csv')\n",
    "fd['평균기온'] = y_pred[-358:]\n",
    "fd"
   ]
  },
  {
   "cell_type": "code",
   "execution_count": 58,
   "id": "71cc108e",
   "metadata": {},
   "outputs": [],
   "source": [
    "fd.to_csv(\"nagga_submission.csv\", index=False)"
   ]
  },
  {
   "cell_type": "code",
   "execution_count": 24,
   "id": "02fa9536",
   "metadata": {},
   "outputs": [
    {
     "ename": "NameError",
     "evalue": "name 'make_subplots' is not defined",
     "output_type": "error",
     "traceback": [
      "\u001b[1;31m---------------------------------------------------------------------------\u001b[0m",
      "\u001b[1;31mNameError\u001b[0m                                 Traceback (most recent call last)",
      "\u001b[1;32m~\\AppData\\Local\\Temp\\ipykernel_106208\\2880584364.py\u001b[0m in \u001b[0;36m<module>\u001b[1;34m\u001b[0m\n\u001b[1;32m----> 1\u001b[1;33m \u001b[0mfig\u001b[0m \u001b[1;33m=\u001b[0m \u001b[0mmake_subplots\u001b[0m\u001b[1;33m(\u001b[0m\u001b[0mrows\u001b[0m\u001b[1;33m=\u001b[0m\u001b[1;36m1\u001b[0m\u001b[1;33m,\u001b[0m \u001b[0mcols\u001b[0m\u001b[1;33m=\u001b[0m\u001b[1;36m1\u001b[0m\u001b[1;33m)\u001b[0m\u001b[1;33m\u001b[0m\u001b[1;33m\u001b[0m\u001b[0m\n\u001b[0m\u001b[0;32m      2\u001b[0m \u001b[1;33m\u001b[0m\u001b[0m\n\u001b[0;32m      3\u001b[0m fig.add_trace(\n\u001b[0;32m      4\u001b[0m     \u001b[0mgo\u001b[0m\u001b[1;33m.\u001b[0m\u001b[0mBar\u001b[0m\u001b[1;33m(\u001b[0m\u001b[0mx\u001b[0m\u001b[1;33m=\u001b[0m\u001b[0mReport\u001b[0m\u001b[1;33m[\u001b[0m\u001b[1;34m'Regression Algorithm'\u001b[0m\u001b[1;33m]\u001b[0m\u001b[1;33m,\u001b[0m \u001b[0my\u001b[0m\u001b[1;33m=\u001b[0m\u001b[0mReport\u001b[0m\u001b[1;33m[\u001b[0m\u001b[1;34m'MAE'\u001b[0m\u001b[1;33m]\u001b[0m\u001b[1;33m,\u001b[0m \u001b[0mname\u001b[0m\u001b[1;33m=\u001b[0m\u001b[1;34m'MAE'\u001b[0m\u001b[1;33m)\u001b[0m\u001b[1;33m,\u001b[0m\u001b[1;33m\u001b[0m\u001b[1;33m\u001b[0m\u001b[0m\n\u001b[0;32m      5\u001b[0m     \u001b[0mrow\u001b[0m\u001b[1;33m=\u001b[0m\u001b[1;36m1\u001b[0m\u001b[1;33m,\u001b[0m \u001b[0mcol\u001b[0m\u001b[1;33m=\u001b[0m\u001b[1;36m1\u001b[0m\u001b[1;33m\u001b[0m\u001b[1;33m\u001b[0m\u001b[0m\n",
      "\u001b[1;31mNameError\u001b[0m: name 'make_subplots' is not defined"
     ]
    }
   ],
   "source": [
    "fig = make_subplots(rows=1, cols=1)\n",
    "\n",
    "fig.add_trace(\n",
    "    go.Bar(x=Report['Regression Algorithm'], y=Report['MAE'], name='MAE'),\n",
    "    row=1, col=1\n",
    ")\n",
    "\n",
    "fig.add_trace(\n",
    "    go.Bar(x=Report['Regression Algorithm'], y=Report['RMSE'], name='RMSE'), row=1,col=1\n",
    ")\n",
    "fig.update_layout(title_text=\"Error of Regression Algorithms\")\n",
    "fig.update_yaxes(title_text=\"Error\", row=1, col=1)\n",
    "fig.update_xaxes(title_text=\"Regression Algorithm\", row=1, col=1)\n",
    "fig.show()"
   ]
  },
  {
   "cell_type": "markdown",
   "id": "9271238f",
   "metadata": {},
   "source": [
    "# Average Temperature of a day Prediction"
   ]
  },
  {
   "cell_type": "code",
   "execution_count": 31,
   "id": "e47fd6b5",
   "metadata": {},
   "outputs": [],
   "source": [
    "df_proc = df_proc.astype(float)\n",
    "df_proc['AvgTemp']=df_proc[['Temp9am', 'Temp3pm','MinTemp','MaxTemp']].mean(axis=1)\n",
    "features = df_proc.drop(columns=['Temp9am', 'Temp3pm','MinTemp','MaxTemp','AvgTemp'], axis=1)\n",
    "Y = df_proc['AvgTemp']\n",
    "x_train, x_test, y_train, y_test = train_test_split(features, Y, test_size=0.35, random_state=101)"
   ]
  },
  {
   "cell_type": "markdown",
   "id": "e5cd6714",
   "metadata": {},
   "source": [
    "# Linear Regression"
   ]
  },
  {
   "cell_type": "code",
   "execution_count": 32,
   "id": "3d3e19ba",
   "metadata": {},
   "outputs": [
    {
     "data": {
      "text/plain": [
       "LinearRegression()"
      ]
     },
     "execution_count": 32,
     "metadata": {},
     "output_type": "execute_result"
    }
   ],
   "source": [
    "LinearReg = LinearRegression()\n",
    "LinearReg.fit(x_train, y_train)"
   ]
  },
  {
   "cell_type": "markdown",
   "id": "0ee0a2b9",
   "metadata": {},
   "source": [
    "## Random Forest Regression Model"
   ]
  },
  {
   "cell_type": "code",
   "execution_count": 33,
   "id": "11ba7395",
   "metadata": {},
   "outputs": [
    {
     "data": {
      "text/plain": [
       "RandomForestRegressor()"
      ]
     },
     "execution_count": 33,
     "metadata": {},
     "output_type": "execute_result"
    }
   ],
   "source": [
    "RFR = RandomForestRegressor()\n",
    "RFR.fit(x_train, y_train)"
   ]
  },
  {
   "cell_type": "markdown",
   "id": "c7a97f77",
   "metadata": {},
   "source": [
    "## SVM Regression Model"
   ]
  },
  {
   "cell_type": "code",
   "execution_count": 34,
   "id": "52295228",
   "metadata": {},
   "outputs": [
    {
     "data": {
      "text/plain": [
       "SVR()"
      ]
     },
     "execution_count": 34,
     "metadata": {},
     "output_type": "execute_result"
    }
   ],
   "source": [
    "SVR=SVR()\n",
    "SVR.fit(x_train, y_train)"
   ]
  },
  {
   "cell_type": "markdown",
   "id": "44f04f0f",
   "metadata": {},
   "source": [
    "## Ensembled of the above Regression Models"
   ]
  },
  {
   "cell_type": "code",
   "execution_count": 35,
   "id": "1946f772",
   "metadata": {},
   "outputs": [
    {
     "data": {
      "text/plain": [
       "VotingRegressor(estimators=[('LinearReg', LinearRegression()),\n",
       "                            ('RandomForest', RandomForestRegressor()),\n",
       "                            ('SVR', SVR())],\n",
       "                weights=[1, 2, 3])"
      ]
     },
     "execution_count": 35,
     "metadata": {},
     "output_type": "execute_result"
    }
   ],
   "source": [
    "ereg = VotingRegressor(estimators=[('LinearReg',LinearReg),('RandomForest', RFR), ('SVR',SVR)],weights=[1,2,3])\n",
    "ereg.fit(x_train, y_train)"
   ]
  },
  {
   "cell_type": "markdown",
   "id": "b83e31b5",
   "metadata": {},
   "source": [
    "##  Regression report on average temperature prediction"
   ]
  },
  {
   "cell_type": "code",
   "execution_count": 36,
   "id": "0f3a2cca",
   "metadata": {},
   "outputs": [
    {
     "data": {
      "text/html": [
       "<div>\n",
       "<style scoped>\n",
       "    .dataframe tbody tr th:only-of-type {\n",
       "        vertical-align: middle;\n",
       "    }\n",
       "\n",
       "    .dataframe tbody tr th {\n",
       "        vertical-align: top;\n",
       "    }\n",
       "\n",
       "    .dataframe thead th {\n",
       "        text-align: right;\n",
       "    }\n",
       "</style>\n",
       "<table border=\"1\" class=\"dataframe\">\n",
       "  <thead>\n",
       "    <tr style=\"text-align: right;\">\n",
       "      <th></th>\n",
       "      <th>Regression Algorithm</th>\n",
       "      <th>MAE</th>\n",
       "      <th>RMSE</th>\n",
       "    </tr>\n",
       "  </thead>\n",
       "  <tbody>\n",
       "    <tr>\n",
       "      <th>0</th>\n",
       "      <td>Linear Regression</td>\n",
       "      <td>0.470594</td>\n",
       "      <td>0.603209</td>\n",
       "    </tr>\n",
       "    <tr>\n",
       "      <th>1</th>\n",
       "      <td>Random Forest</td>\n",
       "      <td>0.449459</td>\n",
       "      <td>0.569627</td>\n",
       "    </tr>\n",
       "    <tr>\n",
       "      <th>2</th>\n",
       "      <td>SVM</td>\n",
       "      <td>0.434701</td>\n",
       "      <td>0.560317</td>\n",
       "    </tr>\n",
       "    <tr>\n",
       "      <th>3</th>\n",
       "      <td>Ensemble Regression</td>\n",
       "      <td>0.425699</td>\n",
       "      <td>0.545638</td>\n",
       "    </tr>\n",
       "  </tbody>\n",
       "</table>\n",
       "</div>"
      ],
      "text/plain": [
       "  Regression Algorithm       MAE      RMSE\n",
       "0    Linear Regression  0.470594  0.603209\n",
       "1        Random Forest  0.449459  0.569627\n",
       "2                  SVM  0.434701  0.560317\n",
       "3  Ensemble Regression  0.425699  0.545638"
      ]
     },
     "execution_count": 36,
     "metadata": {},
     "output_type": "execute_result"
    }
   ],
   "source": [
    "LinearRegression_MAE = metrics.mean_absolute_error(LinearReg.predict(x_test), y_test)\n",
    "LinearRegression_MSE = metrics.mean_squared_error(LinearReg.predict(x_test), y_test, squared=False)\n",
    "\n",
    "RandomForest_MAE = metrics.mean_absolute_error(RFR.predict(x_test), y_test)\n",
    "RandomForest_MSE = metrics.mean_squared_error(RFR.predict(x_test), y_test, squared=False)\n",
    "\n",
    "SVM_MAE = metrics.mean_absolute_error(SVR.predict(x_test), y_test)\n",
    "SVM_MSE = metrics.mean_squared_error(SVR.predict(x_test), y_test, squared=False)\n",
    "\n",
    "ereg_MAE = metrics.mean_absolute_error(ereg.predict(x_test), y_test)\n",
    "ereg_MSE = metrics.mean_squared_error(ereg.predict(x_test), y_test, squared=False)\n",
    "\n",
    "Report = {'Regression Algorithm': ['Linear Regression','Random Forest', 'SVM','Ensemble Regression'],\n",
    "          'MAE': [LinearRegression_MAE,RandomForest_MAE, SVM_MAE,ereg_MAE],\n",
    "          'RMSE': [LinearRegression_MSE,RandomForest_MSE, SVM_MSE,ereg_MSE],}\n",
    "Report = pd.DataFrame(Report)\n",
    "Report\n"
   ]
  },
  {
   "cell_type": "code",
   "execution_count": 37,
   "id": "928ed208",
   "metadata": {},
   "outputs": [
    {
     "data": {
      "application/vnd.plotly.v1+json": {
       "config": {
        "plotlyServerURL": "https://plot.ly"
       },
       "data": [
        {
         "name": "MAE",
         "type": "bar",
         "x": [
          "Linear Regression",
          "Random Forest",
          "SVM",
          "Ensemble Regression"
         ],
         "xaxis": "x",
         "y": [
          0.47059440737644986,
          0.4494586593630366,
          0.43470126366998413,
          0.42569889413050294
         ],
         "yaxis": "y"
        },
        {
         "name": "RMSE",
         "type": "bar",
         "x": [
          "Linear Regression",
          "Random Forest",
          "SVM",
          "Ensemble Regression"
         ],
         "xaxis": "x",
         "y": [
          0.603209128520743,
          0.5696274422042239,
          0.5603172050172052,
          0.5456379326134823
         ],
         "yaxis": "y"
        }
       ],
       "layout": {
        "template": {
         "data": {
          "bar": [
           {
            "error_x": {
             "color": "#2a3f5f"
            },
            "error_y": {
             "color": "#2a3f5f"
            },
            "marker": {
             "line": {
              "color": "#E5ECF6",
              "width": 0.5
             },
             "pattern": {
              "fillmode": "overlay",
              "size": 10,
              "solidity": 0.2
             }
            },
            "type": "bar"
           }
          ],
          "barpolar": [
           {
            "marker": {
             "line": {
              "color": "#E5ECF6",
              "width": 0.5
             },
             "pattern": {
              "fillmode": "overlay",
              "size": 10,
              "solidity": 0.2
             }
            },
            "type": "barpolar"
           }
          ],
          "carpet": [
           {
            "aaxis": {
             "endlinecolor": "#2a3f5f",
             "gridcolor": "white",
             "linecolor": "white",
             "minorgridcolor": "white",
             "startlinecolor": "#2a3f5f"
            },
            "baxis": {
             "endlinecolor": "#2a3f5f",
             "gridcolor": "white",
             "linecolor": "white",
             "minorgridcolor": "white",
             "startlinecolor": "#2a3f5f"
            },
            "type": "carpet"
           }
          ],
          "choropleth": [
           {
            "colorbar": {
             "outlinewidth": 0,
             "ticks": ""
            },
            "type": "choropleth"
           }
          ],
          "contour": [
           {
            "colorbar": {
             "outlinewidth": 0,
             "ticks": ""
            },
            "colorscale": [
             [
              0,
              "#0d0887"
             ],
             [
              0.1111111111111111,
              "#46039f"
             ],
             [
              0.2222222222222222,
              "#7201a8"
             ],
             [
              0.3333333333333333,
              "#9c179e"
             ],
             [
              0.4444444444444444,
              "#bd3786"
             ],
             [
              0.5555555555555556,
              "#d8576b"
             ],
             [
              0.6666666666666666,
              "#ed7953"
             ],
             [
              0.7777777777777778,
              "#fb9f3a"
             ],
             [
              0.8888888888888888,
              "#fdca26"
             ],
             [
              1,
              "#f0f921"
             ]
            ],
            "type": "contour"
           }
          ],
          "contourcarpet": [
           {
            "colorbar": {
             "outlinewidth": 0,
             "ticks": ""
            },
            "type": "contourcarpet"
           }
          ],
          "heatmap": [
           {
            "colorbar": {
             "outlinewidth": 0,
             "ticks": ""
            },
            "colorscale": [
             [
              0,
              "#0d0887"
             ],
             [
              0.1111111111111111,
              "#46039f"
             ],
             [
              0.2222222222222222,
              "#7201a8"
             ],
             [
              0.3333333333333333,
              "#9c179e"
             ],
             [
              0.4444444444444444,
              "#bd3786"
             ],
             [
              0.5555555555555556,
              "#d8576b"
             ],
             [
              0.6666666666666666,
              "#ed7953"
             ],
             [
              0.7777777777777778,
              "#fb9f3a"
             ],
             [
              0.8888888888888888,
              "#fdca26"
             ],
             [
              1,
              "#f0f921"
             ]
            ],
            "type": "heatmap"
           }
          ],
          "heatmapgl": [
           {
            "colorbar": {
             "outlinewidth": 0,
             "ticks": ""
            },
            "colorscale": [
             [
              0,
              "#0d0887"
             ],
             [
              0.1111111111111111,
              "#46039f"
             ],
             [
              0.2222222222222222,
              "#7201a8"
             ],
             [
              0.3333333333333333,
              "#9c179e"
             ],
             [
              0.4444444444444444,
              "#bd3786"
             ],
             [
              0.5555555555555556,
              "#d8576b"
             ],
             [
              0.6666666666666666,
              "#ed7953"
             ],
             [
              0.7777777777777778,
              "#fb9f3a"
             ],
             [
              0.8888888888888888,
              "#fdca26"
             ],
             [
              1,
              "#f0f921"
             ]
            ],
            "type": "heatmapgl"
           }
          ],
          "histogram": [
           {
            "marker": {
             "pattern": {
              "fillmode": "overlay",
              "size": 10,
              "solidity": 0.2
             }
            },
            "type": "histogram"
           }
          ],
          "histogram2d": [
           {
            "colorbar": {
             "outlinewidth": 0,
             "ticks": ""
            },
            "colorscale": [
             [
              0,
              "#0d0887"
             ],
             [
              0.1111111111111111,
              "#46039f"
             ],
             [
              0.2222222222222222,
              "#7201a8"
             ],
             [
              0.3333333333333333,
              "#9c179e"
             ],
             [
              0.4444444444444444,
              "#bd3786"
             ],
             [
              0.5555555555555556,
              "#d8576b"
             ],
             [
              0.6666666666666666,
              "#ed7953"
             ],
             [
              0.7777777777777778,
              "#fb9f3a"
             ],
             [
              0.8888888888888888,
              "#fdca26"
             ],
             [
              1,
              "#f0f921"
             ]
            ],
            "type": "histogram2d"
           }
          ],
          "histogram2dcontour": [
           {
            "colorbar": {
             "outlinewidth": 0,
             "ticks": ""
            },
            "colorscale": [
             [
              0,
              "#0d0887"
             ],
             [
              0.1111111111111111,
              "#46039f"
             ],
             [
              0.2222222222222222,
              "#7201a8"
             ],
             [
              0.3333333333333333,
              "#9c179e"
             ],
             [
              0.4444444444444444,
              "#bd3786"
             ],
             [
              0.5555555555555556,
              "#d8576b"
             ],
             [
              0.6666666666666666,
              "#ed7953"
             ],
             [
              0.7777777777777778,
              "#fb9f3a"
             ],
             [
              0.8888888888888888,
              "#fdca26"
             ],
             [
              1,
              "#f0f921"
             ]
            ],
            "type": "histogram2dcontour"
           }
          ],
          "mesh3d": [
           {
            "colorbar": {
             "outlinewidth": 0,
             "ticks": ""
            },
            "type": "mesh3d"
           }
          ],
          "parcoords": [
           {
            "line": {
             "colorbar": {
              "outlinewidth": 0,
              "ticks": ""
             }
            },
            "type": "parcoords"
           }
          ],
          "pie": [
           {
            "automargin": true,
            "type": "pie"
           }
          ],
          "scatter": [
           {
            "fillpattern": {
             "fillmode": "overlay",
             "size": 10,
             "solidity": 0.2
            },
            "type": "scatter"
           }
          ],
          "scatter3d": [
           {
            "line": {
             "colorbar": {
              "outlinewidth": 0,
              "ticks": ""
             }
            },
            "marker": {
             "colorbar": {
              "outlinewidth": 0,
              "ticks": ""
             }
            },
            "type": "scatter3d"
           }
          ],
          "scattercarpet": [
           {
            "marker": {
             "colorbar": {
              "outlinewidth": 0,
              "ticks": ""
             }
            },
            "type": "scattercarpet"
           }
          ],
          "scattergeo": [
           {
            "marker": {
             "colorbar": {
              "outlinewidth": 0,
              "ticks": ""
             }
            },
            "type": "scattergeo"
           }
          ],
          "scattergl": [
           {
            "marker": {
             "colorbar": {
              "outlinewidth": 0,
              "ticks": ""
             }
            },
            "type": "scattergl"
           }
          ],
          "scattermapbox": [
           {
            "marker": {
             "colorbar": {
              "outlinewidth": 0,
              "ticks": ""
             }
            },
            "type": "scattermapbox"
           }
          ],
          "scatterpolar": [
           {
            "marker": {
             "colorbar": {
              "outlinewidth": 0,
              "ticks": ""
             }
            },
            "type": "scatterpolar"
           }
          ],
          "scatterpolargl": [
           {
            "marker": {
             "colorbar": {
              "outlinewidth": 0,
              "ticks": ""
             }
            },
            "type": "scatterpolargl"
           }
          ],
          "scatterternary": [
           {
            "marker": {
             "colorbar": {
              "outlinewidth": 0,
              "ticks": ""
             }
            },
            "type": "scatterternary"
           }
          ],
          "surface": [
           {
            "colorbar": {
             "outlinewidth": 0,
             "ticks": ""
            },
            "colorscale": [
             [
              0,
              "#0d0887"
             ],
             [
              0.1111111111111111,
              "#46039f"
             ],
             [
              0.2222222222222222,
              "#7201a8"
             ],
             [
              0.3333333333333333,
              "#9c179e"
             ],
             [
              0.4444444444444444,
              "#bd3786"
             ],
             [
              0.5555555555555556,
              "#d8576b"
             ],
             [
              0.6666666666666666,
              "#ed7953"
             ],
             [
              0.7777777777777778,
              "#fb9f3a"
             ],
             [
              0.8888888888888888,
              "#fdca26"
             ],
             [
              1,
              "#f0f921"
             ]
            ],
            "type": "surface"
           }
          ],
          "table": [
           {
            "cells": {
             "fill": {
              "color": "#EBF0F8"
             },
             "line": {
              "color": "white"
             }
            },
            "header": {
             "fill": {
              "color": "#C8D4E3"
             },
             "line": {
              "color": "white"
             }
            },
            "type": "table"
           }
          ]
         },
         "layout": {
          "annotationdefaults": {
           "arrowcolor": "#2a3f5f",
           "arrowhead": 0,
           "arrowwidth": 1
          },
          "autotypenumbers": "strict",
          "coloraxis": {
           "colorbar": {
            "outlinewidth": 0,
            "ticks": ""
           }
          },
          "colorscale": {
           "diverging": [
            [
             0,
             "#8e0152"
            ],
            [
             0.1,
             "#c51b7d"
            ],
            [
             0.2,
             "#de77ae"
            ],
            [
             0.3,
             "#f1b6da"
            ],
            [
             0.4,
             "#fde0ef"
            ],
            [
             0.5,
             "#f7f7f7"
            ],
            [
             0.6,
             "#e6f5d0"
            ],
            [
             0.7,
             "#b8e186"
            ],
            [
             0.8,
             "#7fbc41"
            ],
            [
             0.9,
             "#4d9221"
            ],
            [
             1,
             "#276419"
            ]
           ],
           "sequential": [
            [
             0,
             "#0d0887"
            ],
            [
             0.1111111111111111,
             "#46039f"
            ],
            [
             0.2222222222222222,
             "#7201a8"
            ],
            [
             0.3333333333333333,
             "#9c179e"
            ],
            [
             0.4444444444444444,
             "#bd3786"
            ],
            [
             0.5555555555555556,
             "#d8576b"
            ],
            [
             0.6666666666666666,
             "#ed7953"
            ],
            [
             0.7777777777777778,
             "#fb9f3a"
            ],
            [
             0.8888888888888888,
             "#fdca26"
            ],
            [
             1,
             "#f0f921"
            ]
           ],
           "sequentialminus": [
            [
             0,
             "#0d0887"
            ],
            [
             0.1111111111111111,
             "#46039f"
            ],
            [
             0.2222222222222222,
             "#7201a8"
            ],
            [
             0.3333333333333333,
             "#9c179e"
            ],
            [
             0.4444444444444444,
             "#bd3786"
            ],
            [
             0.5555555555555556,
             "#d8576b"
            ],
            [
             0.6666666666666666,
             "#ed7953"
            ],
            [
             0.7777777777777778,
             "#fb9f3a"
            ],
            [
             0.8888888888888888,
             "#fdca26"
            ],
            [
             1,
             "#f0f921"
            ]
           ]
          },
          "colorway": [
           "#636efa",
           "#EF553B",
           "#00cc96",
           "#ab63fa",
           "#FFA15A",
           "#19d3f3",
           "#FF6692",
           "#B6E880",
           "#FF97FF",
           "#FECB52"
          ],
          "font": {
           "color": "#2a3f5f"
          },
          "geo": {
           "bgcolor": "white",
           "lakecolor": "white",
           "landcolor": "#E5ECF6",
           "showlakes": true,
           "showland": true,
           "subunitcolor": "white"
          },
          "hoverlabel": {
           "align": "left"
          },
          "hovermode": "closest",
          "mapbox": {
           "style": "light"
          },
          "paper_bgcolor": "white",
          "plot_bgcolor": "#E5ECF6",
          "polar": {
           "angularaxis": {
            "gridcolor": "white",
            "linecolor": "white",
            "ticks": ""
           },
           "bgcolor": "#E5ECF6",
           "radialaxis": {
            "gridcolor": "white",
            "linecolor": "white",
            "ticks": ""
           }
          },
          "scene": {
           "xaxis": {
            "backgroundcolor": "#E5ECF6",
            "gridcolor": "white",
            "gridwidth": 2,
            "linecolor": "white",
            "showbackground": true,
            "ticks": "",
            "zerolinecolor": "white"
           },
           "yaxis": {
            "backgroundcolor": "#E5ECF6",
            "gridcolor": "white",
            "gridwidth": 2,
            "linecolor": "white",
            "showbackground": true,
            "ticks": "",
            "zerolinecolor": "white"
           },
           "zaxis": {
            "backgroundcolor": "#E5ECF6",
            "gridcolor": "white",
            "gridwidth": 2,
            "linecolor": "white",
            "showbackground": true,
            "ticks": "",
            "zerolinecolor": "white"
           }
          },
          "shapedefaults": {
           "line": {
            "color": "#2a3f5f"
           }
          },
          "ternary": {
           "aaxis": {
            "gridcolor": "white",
            "linecolor": "white",
            "ticks": ""
           },
           "baxis": {
            "gridcolor": "white",
            "linecolor": "white",
            "ticks": ""
           },
           "bgcolor": "#E5ECF6",
           "caxis": {
            "gridcolor": "white",
            "linecolor": "white",
            "ticks": ""
           }
          },
          "title": {
           "x": 0.05
          },
          "xaxis": {
           "automargin": true,
           "gridcolor": "white",
           "linecolor": "white",
           "ticks": "",
           "title": {
            "standoff": 15
           },
           "zerolinecolor": "white",
           "zerolinewidth": 2
          },
          "yaxis": {
           "automargin": true,
           "gridcolor": "white",
           "linecolor": "white",
           "ticks": "",
           "title": {
            "standoff": 15
           },
           "zerolinecolor": "white",
           "zerolinewidth": 2
          }
         }
        },
        "title": {
         "text": "Error of Regression Algorithms"
        },
        "xaxis": {
         "anchor": "y",
         "domain": [
          0,
          1
         ],
         "title": {
          "text": "Regression Algorithm"
         }
        },
        "yaxis": {
         "anchor": "x",
         "domain": [
          0,
          1
         ],
         "title": {
          "text": "Error"
         }
        }
       }
      },
      "text/html": [
       "<div>                            <div id=\"426d0c2d-7032-4c5f-858d-f806a1e96f5e\" class=\"plotly-graph-div\" style=\"height:525px; width:100%;\"></div>            <script type=\"text/javascript\">                require([\"plotly\"], function(Plotly) {                    window.PLOTLYENV=window.PLOTLYENV || {};                                    if (document.getElementById(\"426d0c2d-7032-4c5f-858d-f806a1e96f5e\")) {                    Plotly.newPlot(                        \"426d0c2d-7032-4c5f-858d-f806a1e96f5e\",                        [{\"name\":\"MAE\",\"x\":[\"Linear Regression\",\"Random Forest\",\"SVM\",\"Ensemble Regression\"],\"y\":[0.47059440737644986,0.4494586593630366,0.43470126366998413,0.42569889413050294],\"type\":\"bar\",\"xaxis\":\"x\",\"yaxis\":\"y\"},{\"name\":\"RMSE\",\"x\":[\"Linear Regression\",\"Random Forest\",\"SVM\",\"Ensemble Regression\"],\"y\":[0.603209128520743,0.5696274422042239,0.5603172050172052,0.5456379326134823],\"type\":\"bar\",\"xaxis\":\"x\",\"yaxis\":\"y\"}],                        {\"template\":{\"data\":{\"histogram2dcontour\":[{\"type\":\"histogram2dcontour\",\"colorbar\":{\"outlinewidth\":0,\"ticks\":\"\"},\"colorscale\":[[0.0,\"#0d0887\"],[0.1111111111111111,\"#46039f\"],[0.2222222222222222,\"#7201a8\"],[0.3333333333333333,\"#9c179e\"],[0.4444444444444444,\"#bd3786\"],[0.5555555555555556,\"#d8576b\"],[0.6666666666666666,\"#ed7953\"],[0.7777777777777778,\"#fb9f3a\"],[0.8888888888888888,\"#fdca26\"],[1.0,\"#f0f921\"]]}],\"choropleth\":[{\"type\":\"choropleth\",\"colorbar\":{\"outlinewidth\":0,\"ticks\":\"\"}}],\"histogram2d\":[{\"type\":\"histogram2d\",\"colorbar\":{\"outlinewidth\":0,\"ticks\":\"\"},\"colorscale\":[[0.0,\"#0d0887\"],[0.1111111111111111,\"#46039f\"],[0.2222222222222222,\"#7201a8\"],[0.3333333333333333,\"#9c179e\"],[0.4444444444444444,\"#bd3786\"],[0.5555555555555556,\"#d8576b\"],[0.6666666666666666,\"#ed7953\"],[0.7777777777777778,\"#fb9f3a\"],[0.8888888888888888,\"#fdca26\"],[1.0,\"#f0f921\"]]}],\"heatmap\":[{\"type\":\"heatmap\",\"colorbar\":{\"outlinewidth\":0,\"ticks\":\"\"},\"colorscale\":[[0.0,\"#0d0887\"],[0.1111111111111111,\"#46039f\"],[0.2222222222222222,\"#7201a8\"],[0.3333333333333333,\"#9c179e\"],[0.4444444444444444,\"#bd3786\"],[0.5555555555555556,\"#d8576b\"],[0.6666666666666666,\"#ed7953\"],[0.7777777777777778,\"#fb9f3a\"],[0.8888888888888888,\"#fdca26\"],[1.0,\"#f0f921\"]]}],\"heatmapgl\":[{\"type\":\"heatmapgl\",\"colorbar\":{\"outlinewidth\":0,\"ticks\":\"\"},\"colorscale\":[[0.0,\"#0d0887\"],[0.1111111111111111,\"#46039f\"],[0.2222222222222222,\"#7201a8\"],[0.3333333333333333,\"#9c179e\"],[0.4444444444444444,\"#bd3786\"],[0.5555555555555556,\"#d8576b\"],[0.6666666666666666,\"#ed7953\"],[0.7777777777777778,\"#fb9f3a\"],[0.8888888888888888,\"#fdca26\"],[1.0,\"#f0f921\"]]}],\"contourcarpet\":[{\"type\":\"contourcarpet\",\"colorbar\":{\"outlinewidth\":0,\"ticks\":\"\"}}],\"contour\":[{\"type\":\"contour\",\"colorbar\":{\"outlinewidth\":0,\"ticks\":\"\"},\"colorscale\":[[0.0,\"#0d0887\"],[0.1111111111111111,\"#46039f\"],[0.2222222222222222,\"#7201a8\"],[0.3333333333333333,\"#9c179e\"],[0.4444444444444444,\"#bd3786\"],[0.5555555555555556,\"#d8576b\"],[0.6666666666666666,\"#ed7953\"],[0.7777777777777778,\"#fb9f3a\"],[0.8888888888888888,\"#fdca26\"],[1.0,\"#f0f921\"]]}],\"surface\":[{\"type\":\"surface\",\"colorbar\":{\"outlinewidth\":0,\"ticks\":\"\"},\"colorscale\":[[0.0,\"#0d0887\"],[0.1111111111111111,\"#46039f\"],[0.2222222222222222,\"#7201a8\"],[0.3333333333333333,\"#9c179e\"],[0.4444444444444444,\"#bd3786\"],[0.5555555555555556,\"#d8576b\"],[0.6666666666666666,\"#ed7953\"],[0.7777777777777778,\"#fb9f3a\"],[0.8888888888888888,\"#fdca26\"],[1.0,\"#f0f921\"]]}],\"mesh3d\":[{\"type\":\"mesh3d\",\"colorbar\":{\"outlinewidth\":0,\"ticks\":\"\"}}],\"scatter\":[{\"fillpattern\":{\"fillmode\":\"overlay\",\"size\":10,\"solidity\":0.2},\"type\":\"scatter\"}],\"parcoords\":[{\"type\":\"parcoords\",\"line\":{\"colorbar\":{\"outlinewidth\":0,\"ticks\":\"\"}}}],\"scatterpolargl\":[{\"type\":\"scatterpolargl\",\"marker\":{\"colorbar\":{\"outlinewidth\":0,\"ticks\":\"\"}}}],\"bar\":[{\"error_x\":{\"color\":\"#2a3f5f\"},\"error_y\":{\"color\":\"#2a3f5f\"},\"marker\":{\"line\":{\"color\":\"#E5ECF6\",\"width\":0.5},\"pattern\":{\"fillmode\":\"overlay\",\"size\":10,\"solidity\":0.2}},\"type\":\"bar\"}],\"scattergeo\":[{\"type\":\"scattergeo\",\"marker\":{\"colorbar\":{\"outlinewidth\":0,\"ticks\":\"\"}}}],\"scatterpolar\":[{\"type\":\"scatterpolar\",\"marker\":{\"colorbar\":{\"outlinewidth\":0,\"ticks\":\"\"}}}],\"histogram\":[{\"marker\":{\"pattern\":{\"fillmode\":\"overlay\",\"size\":10,\"solidity\":0.2}},\"type\":\"histogram\"}],\"scattergl\":[{\"type\":\"scattergl\",\"marker\":{\"colorbar\":{\"outlinewidth\":0,\"ticks\":\"\"}}}],\"scatter3d\":[{\"type\":\"scatter3d\",\"line\":{\"colorbar\":{\"outlinewidth\":0,\"ticks\":\"\"}},\"marker\":{\"colorbar\":{\"outlinewidth\":0,\"ticks\":\"\"}}}],\"scattermapbox\":[{\"type\":\"scattermapbox\",\"marker\":{\"colorbar\":{\"outlinewidth\":0,\"ticks\":\"\"}}}],\"scatterternary\":[{\"type\":\"scatterternary\",\"marker\":{\"colorbar\":{\"outlinewidth\":0,\"ticks\":\"\"}}}],\"scattercarpet\":[{\"type\":\"scattercarpet\",\"marker\":{\"colorbar\":{\"outlinewidth\":0,\"ticks\":\"\"}}}],\"carpet\":[{\"aaxis\":{\"endlinecolor\":\"#2a3f5f\",\"gridcolor\":\"white\",\"linecolor\":\"white\",\"minorgridcolor\":\"white\",\"startlinecolor\":\"#2a3f5f\"},\"baxis\":{\"endlinecolor\":\"#2a3f5f\",\"gridcolor\":\"white\",\"linecolor\":\"white\",\"minorgridcolor\":\"white\",\"startlinecolor\":\"#2a3f5f\"},\"type\":\"carpet\"}],\"table\":[{\"cells\":{\"fill\":{\"color\":\"#EBF0F8\"},\"line\":{\"color\":\"white\"}},\"header\":{\"fill\":{\"color\":\"#C8D4E3\"},\"line\":{\"color\":\"white\"}},\"type\":\"table\"}],\"barpolar\":[{\"marker\":{\"line\":{\"color\":\"#E5ECF6\",\"width\":0.5},\"pattern\":{\"fillmode\":\"overlay\",\"size\":10,\"solidity\":0.2}},\"type\":\"barpolar\"}],\"pie\":[{\"automargin\":true,\"type\":\"pie\"}]},\"layout\":{\"autotypenumbers\":\"strict\",\"colorway\":[\"#636efa\",\"#EF553B\",\"#00cc96\",\"#ab63fa\",\"#FFA15A\",\"#19d3f3\",\"#FF6692\",\"#B6E880\",\"#FF97FF\",\"#FECB52\"],\"font\":{\"color\":\"#2a3f5f\"},\"hovermode\":\"closest\",\"hoverlabel\":{\"align\":\"left\"},\"paper_bgcolor\":\"white\",\"plot_bgcolor\":\"#E5ECF6\",\"polar\":{\"bgcolor\":\"#E5ECF6\",\"angularaxis\":{\"gridcolor\":\"white\",\"linecolor\":\"white\",\"ticks\":\"\"},\"radialaxis\":{\"gridcolor\":\"white\",\"linecolor\":\"white\",\"ticks\":\"\"}},\"ternary\":{\"bgcolor\":\"#E5ECF6\",\"aaxis\":{\"gridcolor\":\"white\",\"linecolor\":\"white\",\"ticks\":\"\"},\"baxis\":{\"gridcolor\":\"white\",\"linecolor\":\"white\",\"ticks\":\"\"},\"caxis\":{\"gridcolor\":\"white\",\"linecolor\":\"white\",\"ticks\":\"\"}},\"coloraxis\":{\"colorbar\":{\"outlinewidth\":0,\"ticks\":\"\"}},\"colorscale\":{\"sequential\":[[0.0,\"#0d0887\"],[0.1111111111111111,\"#46039f\"],[0.2222222222222222,\"#7201a8\"],[0.3333333333333333,\"#9c179e\"],[0.4444444444444444,\"#bd3786\"],[0.5555555555555556,\"#d8576b\"],[0.6666666666666666,\"#ed7953\"],[0.7777777777777778,\"#fb9f3a\"],[0.8888888888888888,\"#fdca26\"],[1.0,\"#f0f921\"]],\"sequentialminus\":[[0.0,\"#0d0887\"],[0.1111111111111111,\"#46039f\"],[0.2222222222222222,\"#7201a8\"],[0.3333333333333333,\"#9c179e\"],[0.4444444444444444,\"#bd3786\"],[0.5555555555555556,\"#d8576b\"],[0.6666666666666666,\"#ed7953\"],[0.7777777777777778,\"#fb9f3a\"],[0.8888888888888888,\"#fdca26\"],[1.0,\"#f0f921\"]],\"diverging\":[[0,\"#8e0152\"],[0.1,\"#c51b7d\"],[0.2,\"#de77ae\"],[0.3,\"#f1b6da\"],[0.4,\"#fde0ef\"],[0.5,\"#f7f7f7\"],[0.6,\"#e6f5d0\"],[0.7,\"#b8e186\"],[0.8,\"#7fbc41\"],[0.9,\"#4d9221\"],[1,\"#276419\"]]},\"xaxis\":{\"gridcolor\":\"white\",\"linecolor\":\"white\",\"ticks\":\"\",\"title\":{\"standoff\":15},\"zerolinecolor\":\"white\",\"automargin\":true,\"zerolinewidth\":2},\"yaxis\":{\"gridcolor\":\"white\",\"linecolor\":\"white\",\"ticks\":\"\",\"title\":{\"standoff\":15},\"zerolinecolor\":\"white\",\"automargin\":true,\"zerolinewidth\":2},\"scene\":{\"xaxis\":{\"backgroundcolor\":\"#E5ECF6\",\"gridcolor\":\"white\",\"linecolor\":\"white\",\"showbackground\":true,\"ticks\":\"\",\"zerolinecolor\":\"white\",\"gridwidth\":2},\"yaxis\":{\"backgroundcolor\":\"#E5ECF6\",\"gridcolor\":\"white\",\"linecolor\":\"white\",\"showbackground\":true,\"ticks\":\"\",\"zerolinecolor\":\"white\",\"gridwidth\":2},\"zaxis\":{\"backgroundcolor\":\"#E5ECF6\",\"gridcolor\":\"white\",\"linecolor\":\"white\",\"showbackground\":true,\"ticks\":\"\",\"zerolinecolor\":\"white\",\"gridwidth\":2}},\"shapedefaults\":{\"line\":{\"color\":\"#2a3f5f\"}},\"annotationdefaults\":{\"arrowcolor\":\"#2a3f5f\",\"arrowhead\":0,\"arrowwidth\":1},\"geo\":{\"bgcolor\":\"white\",\"landcolor\":\"#E5ECF6\",\"subunitcolor\":\"white\",\"showland\":true,\"showlakes\":true,\"lakecolor\":\"white\"},\"title\":{\"x\":0.05},\"mapbox\":{\"style\":\"light\"}}},\"xaxis\":{\"anchor\":\"y\",\"domain\":[0.0,1.0],\"title\":{\"text\":\"Regression Algorithm\"}},\"yaxis\":{\"anchor\":\"x\",\"domain\":[0.0,1.0],\"title\":{\"text\":\"Error\"}},\"title\":{\"text\":\"Error of Regression Algorithms\"}},                        {\"responsive\": true}                    ).then(function(){\n",
       "                            \n",
       "var gd = document.getElementById('426d0c2d-7032-4c5f-858d-f806a1e96f5e');\n",
       "var x = new MutationObserver(function (mutations, observer) {{\n",
       "        var display = window.getComputedStyle(gd).display;\n",
       "        if (!display || display === 'none') {{\n",
       "            console.log([gd, 'removed!']);\n",
       "            Plotly.purge(gd);\n",
       "            observer.disconnect();\n",
       "        }}\n",
       "}});\n",
       "\n",
       "// Listen for the removal of the full notebook cells\n",
       "var notebookContainer = gd.closest('#notebook-container');\n",
       "if (notebookContainer) {{\n",
       "    x.observe(notebookContainer, {childList: true});\n",
       "}}\n",
       "\n",
       "// Listen for the clearing of the current output cell\n",
       "var outputEl = gd.closest('.output');\n",
       "if (outputEl) {{\n",
       "    x.observe(outputEl, {childList: true});\n",
       "}}\n",
       "\n",
       "                        })                };                });            </script>        </div>"
      ]
     },
     "metadata": {},
     "output_type": "display_data"
    }
   ],
   "source": [
    "fig = make_subplots(rows=1, cols=1)\n",
    "\n",
    "fig.add_trace(\n",
    "    go.Bar(x=Report['Regression Algorithm'], y=Report['MAE'], name='MAE'),\n",
    "    row=1, col=1\n",
    ")\n",
    "\n",
    "fig.add_trace(\n",
    "    go.Bar(x=Report['Regression Algorithm'], y=Report['RMSE'], name='RMSE'), row=1,col=1\n",
    ")\n",
    "fig.update_layout(title_text=\"Error of Regression Algorithms\")\n",
    "fig.update_yaxes(title_text=\"Error\", row=1, col=1)\n",
    "fig.update_xaxes(title_text=\"Regression Algorithm\", row=1, col=1)\n",
    "fig.show()"
   ]
  },
  {
   "cell_type": "code",
   "execution_count": null,
   "id": "43039e9d",
   "metadata": {},
   "outputs": [],
   "source": []
  }
 ],
 "metadata": {
  "kernelspec": {
   "display_name": "Python 3 (ipykernel)",
   "language": "python",
   "name": "python3"
  },
  "language_info": {
   "codemirror_mode": {
    "name": "ipython",
    "version": 3
   },
   "file_extension": ".py",
   "mimetype": "text/x-python",
   "name": "python",
   "nbconvert_exporter": "python",
   "pygments_lexer": "ipython3",
   "version": "3.9.13"
  }
 },
 "nbformat": 4,
 "nbformat_minor": 5
}
