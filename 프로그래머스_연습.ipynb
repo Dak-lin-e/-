{
  "nbformat": 4,
  "nbformat_minor": 0,
  "metadata": {
    "colab": {
      "provenance": [],
      "gpuType": "T4",
      "authorship_tag": "ABX9TyNvrd1hok0HiVGDfF6IE/X3",
      "include_colab_link": true
    },
    "kernelspec": {
      "name": "python3",
      "display_name": "Python 3"
    },
    "language_info": {
      "name": "python"
    },
    "accelerator": "GPU"
  },
  "cells": [
    {
      "cell_type": "markdown",
      "metadata": {
        "id": "view-in-github",
        "colab_type": "text"
      },
      "source": [
        "<a href=\"https://colab.research.google.com/github/Dak-lin-e/-/blob/main/%ED%94%84%EB%A1%9C%EA%B7%B8%EB%9E%98%EB%A8%B8%EC%8A%A4_%EC%97%B0%EC%8A%B5.ipynb\" target=\"_parent\"><img src=\"https://colab.research.google.com/assets/colab-badge.svg\" alt=\"Open In Colab\"/></a>"
      ]
    },
    {
      "cell_type": "code",
      "source": [
        "# 첫번째로 나오는 음수 - 리스트(배열)\n",
        "# 정수 리스트 num_list가 주어질 때, 첫 번째로 나오는 음수의 인덱스를 return하도록 solution 함수를 완성해주세요. 음수가 없다면 -1을 return합니다.\n",
        "\n",
        "def solution(num_list):\n",
        "    for i in range(len(num_list)):\n",
        "        if num_list[i] < 0:\n",
        "            answer = i\n",
        "            break\n",
        "        else:\n",
        "            answer = -1\n",
        "    return answer\n",
        "\n",
        "\n",
        "# 다른 사람의 풀이 1\n",
        "\n",
        "def solution(num_list):\n",
        "    for i in range(len(num_list)):\n",
        "        if num_list[i]<0:return i\n",
        "    return -1\n"
      ],
      "metadata": {
        "id": "cmbTASxEsHp7"
      },
      "execution_count": 10,
      "outputs": []
    },
    {
      "cell_type": "code",
      "source": [
        "# 문자열로 변환 - 함수(메서드)\n",
        "# 정수 n이 주어질 때, n을 문자열로 변환하여 return하도록 solution 함수를 완성해주세요.\n",
        "\n",
        "def solution(n):\n",
        "    return str(n)\n",
        "\n",
        "# 다른 사람의 풀이\n",
        "\n",
        "2\n",
        "3\n",
        "4\n",
        "def solution(n):\n",
        "    answer = f'{n}'\n",
        "    return answer"
      ],
      "metadata": {
        "id": "Snk77cxOQUnd"
      },
      "execution_count": null,
      "outputs": []
    },
    {
      "cell_type": "code",
      "source": [],
      "metadata": {
        "id": "StBs490ORooD"
      },
      "execution_count": null,
      "outputs": []
    },
    {
      "cell_type": "code",
      "source": [
        "# 문자열을 정수로 변환 - 함수(메서드)\n",
        "# 숫자로만 이루어진 문자열 n_str이 주어질 때, n_str을 정수로 변환하여 return하도록 solution 함수를 완성해주세요.\n",
        "\n",
        "def solution(n_str):\n",
        "    answer = int(n_str)\n",
        "    return answer\n",
        "\n",
        "# 다른사람 풀이\n",
        "\n",
        "solution = lambda x : int(x)"
      ],
      "metadata": {
        "id": "1XvkkgNvQ-yf"
      },
      "execution_count": null,
      "outputs": []
    },
    {
      "cell_type": "code",
      "source": [
        "# 배열 비교하기 - 함수(메서드)\n",
        "# 이 문제에서 두 정수 배열의 대소관계를 다음과 같이 정의합니다.\n",
        "#두 배열의 길이가 다르다면, 배열의 길이가 긴 쪽이 더 큽니다.\n",
        "#배열의 길이가 같다면 각 배열에 있는 모든 원소의 합을 비교하여 다르다면 더 큰 쪽이 크고, 같다면 같습니다.\n",
        "#두 정수 배열 arr1과 arr2가 주어질 때, 위에서 정의한 배열의 대소관계에 대하여 arr2가 크다면 -1, arr1이 크다면 1, 두 배열이 같다면 0을 return 하는 solution 함수를 작성해 주세요.\n",
        "\n",
        "def solution(arr1, arr2):\n",
        "    if len(arr1) > len(arr2):\n",
        "        answer = 1\n",
        "    elif len(arr2) > len(arr1):\n",
        "        answer = -1\n",
        "    elif len(arr1) == len(arr2):\n",
        "        if sum(arr1) > sum(arr2):\n",
        "            answer = 1\n",
        "        elif sum(arr2) > sum(arr1):\n",
        "            answer = -1\n",
        "        else :\n",
        "            answer = 0\n",
        "    else:\n",
        "        answer =0\n",
        "    return answer\n",
        "\n",
        "# 다른 사람의 풀이\n",
        "def solution(arr1, arr2):\n",
        "    return (len(arr1) > len(arr2)) - (len(arr2) > len(arr1)) or (sum(arr1) > sum(arr2)) - (sum(arr2) > sum(arr1))\n",
        "\n"
      ],
      "metadata": {
        "id": "hAkAAszmRp1M"
      },
      "execution_count": null,
      "outputs": []
    },
    {
      "cell_type": "code",
      "source": [
        "# 특별한 이차원 배열 1 - 이차원배열\n",
        "# 정수 n이 매개변수로 주어질 때, 다음과 같은 n × n 크기의 이차원 배열 arr를 return 하는 solution 함수를 작성해 주세요.\n",
        "# arr[i][j] (0 ≤ i, j < n)의 값은 i = j라면 1, 아니라면 0입니다.\n",
        "\n",
        "answer=[]\n",
        "def solution(n):\n",
        "    for i in range(n):\n",
        "      an=[]\n",
        "      for j in range(n):\n",
        "        if i==j :\n",
        "          an.append(1)\n",
        "        elif i!=j :\n",
        "          an.append(0)\n",
        "        else:\n",
        "          pass\n",
        "\n",
        "      answer.append(an)\n",
        "\n",
        "    return answer\n",
        "\n",
        "# 다른 사람의 풀이\n",
        "\n",
        "def solution(n):\n",
        "    answer=[[0]*n for i in range(n)]\n",
        "    for i in range(n): answer[i][i]=1\n",
        "    return answer"
      ],
      "metadata": {
        "id": "82EUZ_BCUOAG"
      },
      "execution_count": 21,
      "outputs": []
    },
    {
      "cell_type": "code",
      "source": [
        "# 이차원배열 대각선 순회하기 - 이차원 배열\n",
        "# 2차원 정수 배열 board와 정수 k가 주어집니다.\n",
        "# i + j <= k를 만족하는 모든 (i, j)에 대한 board[i][j]의 합을 return 하는 solution 함수를 완성해 주세요.\n",
        "\n",
        "def solution(board, k):\n",
        "    answer = 0\n",
        "    for i in range(len(board)):\n",
        "        for j in range(len(board[i])):\n",
        "            if i+j <= k :\n",
        "              answer += board[i][j]\n",
        "            else:\n",
        "              pass\n",
        "    return answer\n",
        "\n",
        "# 다른 사람의 풀이\n",
        "\n",
        "def solution(board, k):\n",
        "    return sum(board[i][j] for i in range(len(board)) for j in range(len(board[0])) if i + j <= k)\n"
      ],
      "metadata": {
        "id": "vT_Ffv7_C8GC"
      },
      "execution_count": 10,
      "outputs": []
    },
    {
      "cell_type": "code",
      "source": [
        "# 배열의 길이를 2의 거듭제곱으로 만들기 - 함수(메서드)\n",
        "# 정수 배열 arr이 매개변수로 주어집니다. arr의 길이가 2의 정수 거듭제곱이 되도록 arr 뒤에 정수 0을 추가하려고 합니다.\n",
        "# arr에 최소한의 개수로 0을 추가한 배열을 return 하는 solution 함수를 작성해 주세요.\n",
        "\n",
        "def solution(arr):\n",
        "    import math\n",
        "\n",
        "    # 현재 배열 길이\n",
        "    current_length = len(arr)\n",
        "\n",
        "    # 2의 거듭제곱인지 확인\n",
        "    if (current_length & (current_length - 1)) == 0:\n",
        "        return arr  # 이미 2의 거듭제곱이면 그대로 반환\n",
        "\n",
        "    # 다음 2의 거듭제곱 구하기\n",
        "    next_power_of_2 = 2 ** math.ceil(math.log2(current_length))           # 로그함수사용법을 할게됨.\n",
        "\n",
        "    # 추가해야 할 0의 개수\n",
        "    zeros_to_add = next_power_of_2 - current_length\n",
        "\n",
        "    # 0 추가 후 반환\n",
        "    return arr + [0] * zeros_to_add\n",
        "\n",
        "\n",
        "\n",
        "# 다른 사람의 풀이\n",
        "\n",
        "def solution(arr):\n",
        "    a = 1\n",
        "    b = len(arr)\n",
        "    while a < b :\n",
        "        a *= 2\n",
        "    return arr + [0] * (a-b)\n",
        "\n"
      ],
      "metadata": {
        "id": "X2QJ0g2C4Az9"
      },
      "execution_count": 58,
      "outputs": []
    },
    {
      "cell_type": "code",
      "source": [
        "# 커피심부름\n",
        "# 팀의 막내인 철수는 아메리카노와 카페 라테만 판매하는 카페에서 팀원들의 커피를 사려고 합니다. 아메리카노와 카페 라테의 가격은 차가운 것과 뜨거운 것 상관없이 각각 4500, 5000원입니다.\n",
        "#각 팀원에게 마실 메뉴를 적어달라고 하였고, 그 중에서 메뉴만 적은 팀원의 것은 차가운 것으로 통일하고 \"아무거나\"를 적은 팀원의 것은 차가운 아메리카노로 통일하기로 하였습니다.\n",
        "#각 직원이 적은 메뉴가 문자열 배열 order로 주어질 때, 카페에서 결제하게 될 금액을 return 하는 solution 함수를 작성해주세요\n",
        "\n",
        "def solution(order):\n",
        "  answer = 0\n",
        "  for item in order:\n",
        "    if item == \"anything\" :\n",
        "        answer += 4500\n",
        "    elif item == 'americano':\n",
        "        answer += 4500\n",
        "    elif item == 'americanoice':\n",
        "        answer += 4500\n",
        "    elif item == 'iceamericano':\n",
        "        answer += 4500\n",
        "    elif item == 'hotamericano':\n",
        "        answer += 4500\n",
        "    elif item == 'americanohot':\n",
        "        answer += 4500\n",
        "    else:\n",
        "        answer += 5000\n",
        "\n",
        "  return answer\n",
        "\n",
        "\n",
        "# 다른사람의 풀이\n",
        "\n",
        "def solution(order):\n",
        "    answer = 0\n",
        "    for want in order:\n",
        "        if 'latte' in want:       # 문자열에서는 'latte'가 들어간 모든 요소들은 포함이 된다는 것을 배움.\n",
        "            answer += 500\n",
        "        answer += 4500\n",
        "\n",
        "    return answer"
      ],
      "metadata": {
        "id": "rjsPOi6qSkjt"
      },
      "execution_count": 138,
      "outputs": []
    },
    {
      "cell_type": "code",
      "source": [
        "# 두 수의 합\n",
        "# 0 이상의 두 정수가 문자열 a, b로 주어질 때, a + b의 값을 문자열로 return 하는 solution 함수를 작성해 주세요.\n",
        "\n",
        "def solution(a, b):\n",
        "    answer=int(a)+int(b)\n",
        "    return str(answer)\n",
        "\n",
        "# 다른 사람 풀이\n",
        "\n",
        "def solution(a, b):\n",
        "    return str(eval(a + \"+\" + b))"
      ],
      "metadata": {
        "id": "Y98UGBpHnqk5"
      },
      "execution_count": null,
      "outputs": []
    },
    {
      "cell_type": "code",
      "source": [
        "# 특수문자 출력하기 - 출력\n",
        "# 다음과 같이 출력하도록 코드를 작성해 주세요\n",
        "# !@#$%^&*(\\'\"<>?:;\n",
        "\n",
        "print('!@#$%^&*('+ '\\\\' +\"'\"+ '\"<>?:;')\n",
        "\n",
        "# 다른사람풀이\n",
        "\n",
        "print(r'!@#$%^&*(\\'\"<>?:;')"
      ],
      "metadata": {
        "colab": {
          "base_uri": "https://localhost:8080/"
        },
        "id": "wCq5MpVmoQF7",
        "outputId": "8745f0a5-7ee4-4c59-fd23-d488a9b690cb"
      },
      "execution_count": 21,
      "outputs": [
        {
          "output_type": "stream",
          "name": "stdout",
          "text": [
            "!@#$%^&*(\\'\"<>?:;\n"
          ]
        }
      ]
    },
    {
      "cell_type": "code",
      "source": [
        "# 정사각형 만들기\n",
        "# 이차원 정수 배열 arr이 매개변수로 주어집니다. arr의 행의 수가 더 많다면 열의 수가 행의 수와 같아지도록 각 행의 끝에 0을 추가하고,\n",
        "# 열의 수가 더 많다면 행의 수가 열의 수와 같아지도록 각 열의 끝에 0을 추가한 이차원 배열을 return 하는 solution 함수를 작성해 주세요.\n",
        "\n",
        "def solution(arr):\n",
        "    while(len(arr)!=len(arr[0])):\n",
        "      if len(arr) > len(arr[0]):\n",
        "        for i in range(len(arr)):\n",
        "          arr[i].append(0*(len(arr)-len(arr[0])))       # 배열의 요소 갯수를 늘리는 법을 배움\n",
        "      elif len(arr[0]) > len(arr):\n",
        "        arr.append([0]*len(arr[0]))\n",
        "    return arr\n",
        "\n",
        "# 다른 사람 풀이\n",
        "\n",
        "def solution(arr):\n",
        "    n=len(arr)\n",
        "    m=len(arr[0])\n",
        "    if n>m:\n",
        "        for i in range(n):\n",
        "            for j in range(n-m):\n",
        "                arr[i].append(0)\n",
        "    else:\n",
        "        for i in range(m-n):\n",
        "            arr.append([0]*m)\n",
        "\n",
        "    return arr\n"
      ],
      "metadata": {
        "id": "XRy3OXS3spk6"
      },
      "execution_count": 6,
      "outputs": []
    },
    {
      "cell_type": "code",
      "source": [
        "# 그림확대\n",
        "# 직사각형 형태의 그림 파일이 있고, 이 그림 파일은 1 × 1 크기의 정사각형 크기의 픽셀로 이루어져 있습니다.\n",
        "# 이 그림 파일을 나타낸 문자열 배열 picture과 정수 k가 매개변수로 주어질 때,\n",
        "# 이 그림 파일을 가로 세로로 k배 늘린 그림 파일을 나타내도록 문자열 배열을 return 하는 solution 함수를 작성해 주세요.\n",
        "\n",
        "def solution(picture, k):\n",
        "\n",
        "  result=[]\n",
        "  for i in picture:\n",
        "    result1=[]              # result1 비우기 !!!\n",
        "    for j in i:\n",
        "        result1.append(j*k)\n",
        "    result.append(''.join(result1))      #  리스트 요소들을 합치는 코드\n",
        "\n",
        "  result2=[]\n",
        "  for i in result:\n",
        "    t=k               # while문을 반복하기위한 변수 추가\n",
        "    while(t>0):       # while 문을 사용해서 필요한 만큼 요소 갯수를늘리기\n",
        "      result2.append(i)\n",
        "      t-=1\n",
        "\n",
        "  return result2\n",
        "\n",
        "\n",
        "# 다른 사람 풀이\n",
        "\n",
        "def solution(picture, k):\n",
        "    answer = []\n",
        "    for i in range(len(picture)):\n",
        "        for _ in range(k):\n",
        "            answer.append(picture[i].replace('.', '.' * k).replace('x', 'x' * k))\n",
        "    return answer"
      ],
      "metadata": {
        "id": "StqkyJ1QvC2z"
      },
      "execution_count": 8,
      "outputs": []
    },
    {
      "cell_type": "code",
      "source": [
        "# 문자열겹쳐쓰기\n",
        "# 문자열 my_string, overwrite_string과 정수 s가 주어집니다.\n",
        "# 문자열 my_string의 인덱스 s부터 overwrite_string의 길이만큼을 문자열 overwrite_string으로 바꾼 문자열을 return 하는 solution 함수를 작성해 주세요.\n",
        "\n",
        "\n",
        "def solution(my_string, overwrite_string, s):\n",
        "    result=[]\n",
        "    result1=[]\n",
        "    result2=[]\n",
        "    for i in my_string:       # mystring 문자열을 다 일일이 리스트로 저장. 아래배열도 마찬가지\n",
        "      result1.append(i)\n",
        "    for i in overwrite_string:\n",
        "      result2.append(i)\n",
        "    for i in range(len(my_string)):\n",
        "        if s <= i < s+len(overwrite_string):      # 처음거는 포함이 안되는데 뒤에거는 포함이 안되서 범위를 저렇게 설정함.\n",
        "          result.append(result2[i-s])\n",
        "        else :\n",
        "          result.append(result1[i])               # s,s+len(overstring) 를 기준으로 범위를 나눠서 범위에 맞는 문자열들을 result 리스트에 대입\n",
        "    return ''.join(result)          # result 리스트를 합침.\n",
        "\n",
        "\n",
        "# 다른 사람 풀이\n",
        "\n",
        "def solution(my_string, overwrite_string, s):\n",
        "    return my_string[:s] + overwrite_string + my_string[s + len(overwrite_string):]"
      ],
      "metadata": {
        "id": "9KAazgIzbWAp"
      },
      "execution_count": 18,
      "outputs": []
    },
    {
      "cell_type": "code",
      "source": [
        "# a와 b 출력하기\n",
        "# 정수 a와 b가 주어집니다. 각 수를 입력받아 입출력 예와 같은 형식으로 출력하는 코드를 작성해 보세요.\n",
        "\n",
        "a, b = map(int, input().strip().split(' '))\n",
        "print('a =',a)\n",
        "print('b =',b)\n",
        "\n",
        "# 다른 사람 풀이\n",
        "a, b = map(int, input().strip().split(' '))\n",
        "print(f\"a = {a}\\nb = {b}\")"
      ],
      "metadata": {
        "colab": {
          "base_uri": "https://localhost:8080/"
        },
        "id": "hCqQQ1ljvg3c",
        "outputId": "ab962ca5-bd47-420e-e717-d30435084992"
      },
      "execution_count": 21,
      "outputs": [
        {
          "output_type": "stream",
          "name": "stdout",
          "text": [
            "4 5\n",
            "a = 4\n",
            "b = 5\n"
          ]
        }
      ]
    },
    {
      "cell_type": "code",
      "source": [
        "# 전국대회선발고사\n",
        "# 0번부터 n - 1번까지 n명의 학생 중 3명을 선발하는 전국 대회 선발 고사를 보았습니다. 등수가 높은 3명을 선발해야 하지만,\n",
        "#개인 사정으로 전국 대회에 참여하지 못하는 학생들이 있어 참여가 가능한 학생 중 등수가 높은 3명을 선발하기로 했습니다.\n",
        "# 각 학생들의 선발 고사 등수를 담은 정수 배열 rank와 전국 대회 참여 가능 여부가 담긴 boolean 배열 attendance가 매개변수로 주어집니다.\n",
        "# 전국 대회에 선발된 학생 번호들을 등수가 높은 순서대로 각각 a, b, c번이라고 할 때 10000 × a + 100 × b + c를 return 하는 solution 함수를 작성해 주세요.\n",
        "\n",
        "def solution(rank, attendance):\n",
        "  result=[]\n",
        "  for i in range(len(rank)):\n",
        "      if attendance[i]==True :\n",
        "          result.append(rank[i])        # true 값인것만 따로 result 리스트로 모으기\n",
        "  result.sort()                         # 오름차순 정렬\n",
        "  return 10000*rank.index(result[0])+100*rank.index(result[1])+rank.index(result[2])\n",
        "\n",
        "# 다른 사람풀이\n",
        "\n",
        "def solution(rank, attendance):\n",
        "    arr = sorted([(x, i) for i, x in enumerate(rank) if attendance[i]])\n",
        "    return arr[0][1] * 10000 + arr[1][1] * 100 + arr[2][1]"
      ],
      "metadata": {
        "id": "VwIYUqCU1yJW"
      },
      "execution_count": 50,
      "outputs": []
    },
    {
      "cell_type": "code",
      "source": [
        "solution([3, 7, 2, 5, 4, 6, 1]\t,[False, True, True, True, True, False, False]\t)"
      ],
      "metadata": {
        "colab": {
          "base_uri": "https://localhost:8080/"
        },
        "id": "DbjyrpUA70yA",
        "outputId": "0b69443e-cc86-45c3-af2b-109264debfbf"
      },
      "execution_count": 51,
      "outputs": [
        {
          "output_type": "execute_result",
          "data": {
            "text/plain": [
              "20403"
            ]
          },
          "metadata": {},
          "execution_count": 51
        }
      ]
    },
    {
      "cell_type": "markdown",
      "source": [
        "# 새 섹션"
      ],
      "metadata": {
        "id": "a1Se2yRAsJdz"
      }
    }
  ]
}